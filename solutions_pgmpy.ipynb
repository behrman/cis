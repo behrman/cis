{
 "cells": [
  {
   "attachments": {},
   "cell_type": "markdown",
   "metadata": {},
   "source": [
    "# Causal Inference in Statistics: A Primer\n",
    "Bill Behrman 2023-05-31\n",
    "\n",
    "-   1 Preliminaries: Statistical and Causal Models\n",
    "    -   1.4 Graphs\n",
    "        -   Study question 1.4.1\n",
    "        -   Study question 1.5.1\n",
    "-   2 Graphical Models and Their Applications\n",
    "    -   2.3 Colliders\n",
    "        -   Study question 2.3.1\n",
    "    -   2.4 d-separation\n",
    "        -   Study question 2.4.1\n",
    "    -   2.5 Model Testing and Causal Search\n",
    "        -   Study question 2.5.1\n",
    "-   3 The Effects of Interventions\n",
    "    -   3.3 The Backdoor Criterion\n",
    "        -   Study question 3.3.1\n",
    "    -   3.4 The Front-Door Criterion\n",
    "        -   Study question 3.4.1\n",
    "    -   3.5 Conditional Interventions and Covariate-Specific Effects\n",
    "        -   Study question 3.5.1\n",
    "    -   3.8 Causal Inference in Linear Systems\n",
    "        -   Study question 3.8.1\n",
    "\n",
    "The following are solutions using the [pgmpy](https://pgmpy.org/) Python package to study questions from the book\n",
    "\n",
    "J Pearl, M Glymour, NP Jewell. Causal Inference in Statistics: A Primer. Wiley, 2016.\n",
    "\n",
    "The [book’s website](http://bayes.cs.ucla.edu/PRIMER/) contains PDFs for each chapter."
   ]
  },
  {
   "cell_type": "code",
   "execution_count": 9,
   "metadata": {
    "ExecuteTime": {
     "end_time": "2023-04-14T14:20:51.670773Z",
     "start_time": "2023-04-14T14:20:51.251306Z"
    }
   },
   "outputs": [],
   "source": [
    "import networkx as nx\n",
    "from pgmpy.base import DAG\n",
    "from pgmpy.independencies import IndependenceAssertion, Independencies\n",
    "from pgmpy.inference import CausalInference\n",
    "from pgmpy.models import BayesianNetwork"
   ]
  },
  {
   "attachments": {},
   "cell_type": "markdown",
   "metadata": {},
   "source": [
    "The code below uses pgmpy version 0.1.22."
   ]
  },
  {
   "attachments": {},
   "cell_type": "markdown",
   "metadata": {},
   "source": [
    "## 1 Preliminaries: Statistical and Causal Models\n",
    "\n",
    "### 1.4 Graphs\n",
    "\n",
    "Figure 1.8. A directed graph used in study question 1.4.1."
   ]
  },
  {
   "cell_type": "code",
   "execution_count": 3,
   "metadata": {},
   "outputs": [
    {
     "data": {
      "image/png": "[encoded data removed]",
      "text/plain": [
       "<Figure size 266.457x266.457 with 1 Axes>"
      ]
     },
     "metadata": {},
     "output_type": "display_data"
    }
   ],
   "source": [
    "fig_1_8 = DAG(\n",
    "    ebunch=[\n",
    "        (\"W\", \"Y\"),\n",
    "        (\"W\", \"Z\"),\n",
    "        (\"X\", \"W\"),\n",
    "        (\"X\", \"Y\"),\n",
    "        (\"Y\", \"T\"),\n",
    "        (\"Y\", \"Z\"),\n",
    "        (\"Z\", \"T\"),\n",
    "    ]\n",
    ")\n",
    "\n",
    "fig_1_8_node_pos = {\"T\": (3, 0), \"W\": (2, 4), \"X\": (0, 2), \"Y\": (2, 2), \"Z\": (4, 2)}\n",
    "\n",
    "fig_1_8.to_daft(node_pos=fig_1_8_node_pos).render();"
   ]
  },
  {
   "attachments": {},
   "cell_type": "markdown",
   "metadata": {},
   "source": [
    "#### Study question 1.4.1\n",
    "\n",
    "Consider the graph shown in Figure 1.8:\n",
    "\n",
    "(a) Name all of the parents of Z."
   ]
  },
  {
   "cell_type": "code",
   "execution_count": 4,
   "metadata": {},
   "outputs": [
    {
     "data": {
      "text/plain": [
       "['W', 'Y']"
      ]
     },
     "execution_count": 4,
     "metadata": {},
     "output_type": "execute_result"
    }
   ],
   "source": [
    "fig_1_8.get_parents(node=\"Z\")"
   ]
  },
  {
   "attachments": {},
   "cell_type": "markdown",
   "metadata": {},
   "source": [
    "(b) Name all the ancestors of Z."
   ]
  },
  {
   "cell_type": "code",
   "execution_count": 5,
   "metadata": {},
   "outputs": [
    {
     "data": {
      "text/plain": [
       "{'W', 'X', 'Y'}"
      ]
     },
     "execution_count": 5,
     "metadata": {},
     "output_type": "execute_result"
    }
   ],
   "source": [
    "nx.ancestors(fig_1_8, source=\"Z\")"
   ]
  },
  {
   "attachments": {},
   "cell_type": "markdown",
   "metadata": {},
   "source": [
    "(c) Name all the children of W."
   ]
  },
  {
   "cell_type": "code",
   "execution_count": 6,
   "metadata": {},
   "outputs": [
    {
     "data": {
      "text/plain": [
       "['Y', 'Z']"
      ]
     },
     "execution_count": 6,
     "metadata": {},
     "output_type": "execute_result"
    }
   ],
   "source": [
    "fig_1_8.get_children(node=\"W\")"
   ]
  },
  {
   "attachments": {},
   "cell_type": "markdown",
   "metadata": {},
   "source": [
    "(d) Name all the descendants of W."
   ]
  },
  {
   "cell_type": "code",
   "execution_count": 7,
   "metadata": {},
   "outputs": [
    {
     "data": {
      "text/plain": [
       "{'T', 'Y', 'Z'}"
      ]
     },
     "execution_count": 7,
     "metadata": {},
     "output_type": "execute_result"
    }
   ],
   "source": [
    "nx.descendants(fig_1_8, source=\"W\")"
   ]
  },
  {
   "attachments": {},
   "cell_type": "markdown",
   "metadata": {},
   "source": [
    "(e) Draw all (simple) paths between X and T (i.e., no node should appear more than once)."
   ]
  },
  {
   "cell_type": "code",
   "execution_count": 8,
   "metadata": {},
   "outputs": [
    {
     "data": {
      "text/plain": [
       "[['X', 'W', 'Y', 'T'],\n",
       " ['X', 'W', 'Y', 'Z', 'T'],\n",
       " ['X', 'W', 'Z', 'Y', 'T'],\n",
       " ['X', 'W', 'Z', 'T'],\n",
       " ['X', 'Y', 'W', 'Z', 'T'],\n",
       " ['X', 'Y', 'T'],\n",
       " ['X', 'Y', 'Z', 'T']]"
      ]
     },
     "execution_count": 8,
     "metadata": {},
     "output_type": "execute_result"
    }
   ],
   "source": [
    "list(nx.all_simple_paths(fig_1_8.to_undirected(), source=\"X\", target=\"T\"))"
   ]
  },
  {
   "attachments": {},
   "cell_type": "markdown",
   "metadata": {},
   "source": [
    "(f) Draw all the directed paths between X and T."
   ]
  },
  {
   "cell_type": "code",
   "execution_count": 9,
   "metadata": {},
   "outputs": [
    {
     "data": {
      "text/plain": [
       "[['X', 'W', 'Y', 'T'],\n",
       " ['X', 'W', 'Y', 'Z', 'T'],\n",
       " ['X', 'W', 'Z', 'T'],\n",
       " ['X', 'Y', 'T'],\n",
       " ['X', 'Y', 'Z', 'T']]"
      ]
     },
     "execution_count": 9,
     "metadata": {},
     "output_type": "execute_result"
    }
   ],
   "source": [
    "list(nx.all_simple_paths(fig_1_8, source=\"X\", target=\"T\"))"
   ]
  },
  {
   "attachments": {},
   "cell_type": "markdown",
   "metadata": {},
   "source": [
    "#### Study question 1.5.1\n",
    "\n",
    "(a) Draw the graph that complies with the model."
   ]
  },
  {
   "cell_type": "code",
   "execution_count": 10,
   "metadata": {},
   "outputs": [
    {
     "data": {
      "image/png": "[encoded data removed]",
      "text/plain": [
       "<Figure size 266.457x153.071 with 1 Axes>"
      ]
     },
     "metadata": {},
     "output_type": "display_data"
    }
   ],
   "source": [
    "graph = DAG(ebunch=[(\"U_X\", \"X\"), (\"U_Y\", \"Y\"), (\"U_Z\", \"Z\"), (\"X\", \"Y\"), (\"Y\", \"Z\")])\n",
    "\n",
    "graph_node_pos = {\n",
    "    \"U_X\": (0, 2),\n",
    "    \"U_Y\": (2, 2),\n",
    "    \"U_Z\": (4, 2),\n",
    "    \"X\": (0, 0),\n",
    "    \"Y\": (2, 0),\n",
    "    \"Z\": (4, 0),\n",
    "}\n",
    "\n",
    "graph.to_daft(node_pos=graph_node_pos).render();"
   ]
  },
  {
   "attachments": {},
   "cell_type": "markdown",
   "metadata": {},
   "source": [
    "## 2 Graphical Models and Their Applications\n",
    "\n",
    "### 2.3 Colliders\n",
    "\n",
    "Figure 2.5. A directed graph for demonstrating conditional independence (error terms are not shown explicitly)."
   ]
  },
  {
   "cell_type": "code",
   "execution_count": 11,
   "metadata": {
    "ExecuteTime": {
     "end_time": "2023-04-14T16:37:28.267436Z",
     "start_time": "2023-04-14T16:37:26.179470Z"
    }
   },
   "outputs": [
    {
     "data": {
      "image/png": "[encoded data removed]",
      "text/plain": [
       "<Figure size 720x39.685 with 1 Axes>"
      ]
     },
     "metadata": {},
     "output_type": "display_data"
    }
   ],
   "source": [
    "fig_2_5 = DAG(\n",
    "    ebunch=[\n",
    "        (\"R\", \"S\"),\n",
    "        (\"S\", \"T\"),\n",
    "        (\"U\", \"T\"),\n",
    "        (\"V\", \"U\"),\n",
    "        (\"V\", \"Y\"),\n",
    "        (\"X\", \"R\"),\n",
    "    ]\n",
    ")\n",
    "\n",
    "fig_2_5_node_pos = {\n",
    "    \"R\": (2, 0),\n",
    "    \"S\": (4, 0),\n",
    "    \"T\": (6, 0),\n",
    "    \"U\": (8, 0),\n",
    "    \"V\": (10, 0),\n",
    "    \"X\": (0, 0),\n",
    "    \"Y\": (12, 0),\n",
    "}\n",
    "\n",
    "fig_2_5.to_daft(node_pos=fig_2_5_node_pos).render();"
   ]
  },
  {
   "attachments": {},
   "cell_type": "markdown",
   "metadata": {},
   "source": [
    "Figure 2.6. A directed graph in which P is a descendant of a collider."
   ]
  },
  {
   "cell_type": "code",
   "execution_count": 12,
   "metadata": {},
   "outputs": [
    {
     "data": {
      "image/png": "[encoded data removed]",
      "text/plain": [
       "<Figure size 720x153.071 with 1 Axes>"
      ]
     },
     "metadata": {},
     "output_type": "display_data"
    }
   ],
   "source": [
    "fig_2_6 = fig_2_5.copy()\n",
    "fig_2_6.add_edges_from(ebunch=[(\"T\", \"P\")])\n",
    "\n",
    "fig_2_6_node_pos = fig_2_5_node_pos.copy()\n",
    "fig_2_6_node_pos.update({\"P\": (6, -2)})\n",
    "\n",
    "fig_2_6.to_daft(node_pos=fig_2_6_node_pos).render();"
   ]
  },
  {
   "attachments": {},
   "cell_type": "markdown",
   "metadata": {},
   "source": [
    "#### Study question 2.3.1\n",
    "\n",
    "(a) List all pairs of variables in Figure 2.5 that are independent conditional on the set Z = {R, V}."
   ]
  },
  {
   "cell_type": "code",
   "execution_count": 13,
   "metadata": {
    "ExecuteTime": {
     "end_time": "2023-04-14T13:04:02.248851Z",
     "start_time": "2023-04-14T13:04:02.245074Z"
    }
   },
   "outputs": [],
   "source": [
    "def pairs(v):\n",
    "    return sorted([(x, y) for x in v for y in v if x < y])\n",
    "\n",
    "\n",
    "def print_independent(graph, x, y, z=set()):\n",
    "    if not graph.is_dconnected(start=x, end=y, observed=z):\n",
    "        print(IndependenceAssertion(x, y, z))"
   ]
  },
  {
   "cell_type": "code",
   "execution_count": 14,
   "metadata": {},
   "outputs": [
    {
     "name": "stdout",
     "output_type": "stream",
     "text": [
      "(S ⟂ U | R, V)\n",
      "(S ⟂ X | R, V)\n",
      "(S ⟂ Y | R, V)\n",
      "(T ⟂ X | R, V)\n",
      "(T ⟂ Y | R, V)\n",
      "(U ⟂ X | R, V)\n",
      "(U ⟂ Y | R, V)\n",
      "(X ⟂ Y | R, V)\n"
     ]
    }
   ],
   "source": [
    "z = {\"R\", \"V\"}\n",
    "\n",
    "for x, y in pairs(set(fig_2_5.nodes()).difference(z)):\n",
    "    print_independent(graph=fig_2_5, x=x, y=y, z=z)"
   ]
  },
  {
   "attachments": {},
   "cell_type": "markdown",
   "metadata": {},
   "source": [
    "(b) For each pair of nonadjacent variables in Figure 2.5, give a set of variables that, when conditioned on, renders that pair independent.\n",
    "\n",
    "The function `print_implied_conditional_independencies()` below returns a minimal d-separator for each pair of nonadjacent, observed variables in a graph. This function differs from the R function `daggity::impliedConditionalIndependencies()` in that the later may return multiple independecies for each pair."
   ]
  },
  {
   "cell_type": "code",
   "execution_count": 15,
   "metadata": {
    "ExecuteTime": {
     "end_time": "2023-04-14T17:04:56.715587Z",
     "start_time": "2023-04-14T17:04:56.715031Z"
    }
   },
   "outputs": [],
   "source": [
    "def print_implied_conditional_independencies(graph):\n",
    "    independencies = Independencies()\n",
    "    for x, y in pairs(set(graph.nodes()).difference(graph.latents)):\n",
    "        if (not graph.has_edge(x, y)) and (not graph.has_edge(y, x)):\n",
    "            z = graph.minimal_dseparator(start=x, end=y)\n",
    "            if z is not None:\n",
    "                independencies.add_assertions([x, y, z])\n",
    "    return independencies"
   ]
  },
  {
   "cell_type": "code",
   "execution_count": 16,
   "metadata": {
    "ExecuteTime": {
     "end_time": "2023-04-14T17:04:59.061106Z",
     "start_time": "2023-04-14T17:04:59.040599Z"
    }
   },
   "outputs": [
    {
     "data": {
      "text/plain": [
       "(R ⟂ T | S)\n",
       "(R ⟂ U)\n",
       "(R ⟂ V)\n",
       "(R ⟂ Y)\n",
       "(S ⟂ U)\n",
       "(S ⟂ V)\n",
       "(S ⟂ X | R)\n",
       "(S ⟂ Y)\n",
       "(T ⟂ V | U)\n",
       "(T ⟂ X | S)\n",
       "(T ⟂ Y | V)\n",
       "(U ⟂ X)\n",
       "(U ⟂ Y | V)\n",
       "(V ⟂ X)\n",
       "(X ⟂ Y)"
      ]
     },
     "execution_count": 16,
     "metadata": {},
     "output_type": "execute_result"
    }
   ],
   "source": [
    "print_implied_conditional_independencies(fig_2_5)"
   ]
  },
  {
   "attachments": {},
   "cell_type": "markdown",
   "metadata": {},
   "source": [
    "(c) List all pairs of variables in Figure 2.6 that are independent conditional on the set Z = {R, P}."
   ]
  },
  {
   "cell_type": "code",
   "execution_count": 17,
   "metadata": {},
   "outputs": [
    {
     "name": "stdout",
     "output_type": "stream",
     "text": [
      "(S ⟂ X | P, R)\n",
      "(T ⟂ X | P, R)\n",
      "(U ⟂ X | P, R)\n",
      "(V ⟂ X | P, R)\n",
      "(X ⟂ Y | P, R)\n"
     ]
    }
   ],
   "source": [
    "z = {\"P\", \"R\"}\n",
    "\n",
    "for x, y in pairs(set(fig_2_6.nodes()).difference(z)):\n",
    "    print_independent(graph=fig_2_6, x=x, y=y, z=z)"
   ]
  },
  {
   "attachments": {},
   "cell_type": "markdown",
   "metadata": {},
   "source": [
    "(d) For each pair of nonadjacent variables in Figure 2.6, give a set of variables that, when conditioned on, renders that pair independent."
   ]
  },
  {
   "cell_type": "code",
   "execution_count": 18,
   "metadata": {},
   "outputs": [
    {
     "data": {
      "text/plain": [
       "(P ⟂ R | T)\n",
       "(P ⟂ S | T)\n",
       "(P ⟂ U | T)\n",
       "(P ⟂ V | T)\n",
       "(P ⟂ X | T)\n",
       "(P ⟂ Y | V)\n",
       "(R ⟂ T | S)\n",
       "(R ⟂ U)\n",
       "(R ⟂ V)\n",
       "(R ⟂ Y)\n",
       "(S ⟂ U)\n",
       "(S ⟂ V)\n",
       "(S ⟂ X | R)\n",
       "(S ⟂ Y)\n",
       "(T ⟂ V | U)\n",
       "(T ⟂ X | S)\n",
       "(T ⟂ Y | V)\n",
       "(U ⟂ X)\n",
       "(U ⟂ Y | V)\n",
       "(V ⟂ X)\n",
       "(X ⟂ Y)"
      ]
     },
     "execution_count": 18,
     "metadata": {},
     "output_type": "execute_result"
    }
   ],
   "source": [
    "print_implied_conditional_independencies(fig_2_6)"
   ]
  },
  {
   "attachments": {},
   "cell_type": "markdown",
   "metadata": {},
   "source": [
    "(e) Suppose we generate data by the model described in Figure 2.5, and we fit them with the linear equation\n",
    "\n",
    "Y = a + b \\* X + c \\* Z .\n",
    "\n",
    "Which of the variables in the model may be chosen for Z so as to guarantee that the slope b would be equal to zero? \\[Hint: Recall, a non-zero slope implies that X and Y are dependent given Z.\\]"
   ]
  },
  {
   "cell_type": "code",
   "execution_count": 19,
   "metadata": {},
   "outputs": [
    {
     "name": "stdout",
     "output_type": "stream",
     "text": [
      "set()\n",
      "R\n",
      "S\n",
      "U\n",
      "V\n"
     ]
    }
   ],
   "source": [
    "nodes = [set(), \"R\", \"S\", \"T\", \"U\", \"V\"]\n",
    "\n",
    "for z in nodes:\n",
    "    if not fig_2_5.is_dconnected(start=\"X\", end=\"Y\", observed=z):\n",
    "        print(z)"
   ]
  },
  {
   "attachments": {},
   "cell_type": "markdown",
   "metadata": {},
   "source": [
    "X and Y are marginally independent, so the Z term could be omitted. X and Y are conditionally independent when Z is any member of the set {R, S, U, V}."
   ]
  },
  {
   "attachments": {},
   "cell_type": "markdown",
   "metadata": {},
   "source": [
    "(f) Suppose we generate data by the model described in Figure 2.6, and we fit them with the linear equation\n",
    "\n",
    "Y = a + b \\* X + c \\* R + d \\* S + e \\* T + f \\* P .\n",
    "\n",
    "Which of the coefficients would be zero?\n",
    "\n",
    "The coefficients for the following variables."
   ]
  },
  {
   "cell_type": "code",
   "execution_count": 20,
   "metadata": {},
   "outputs": [
    {
     "name": "stdout",
     "output_type": "stream",
     "text": [
      "P\n",
      "R\n",
      "X\n"
     ]
    }
   ],
   "source": [
    "nodes = [\"P\", \"R\", \"S\", \"T\", \"X\"]\n",
    "\n",
    "for x in nodes:\n",
    "    if not fig_2_6.is_dconnected(start=x, end=\"Y\", observed=set(nodes).difference(x)):\n",
    "        print(x)"
   ]
  },
  {
   "attachments": {},
   "cell_type": "markdown",
   "metadata": {},
   "source": [
    "### 2.4 d-separation\n",
    "\n",
    "Figure 2.9. A causal graph used in study question 2.4.1. All error terms (not shown) are assumed to be mutually independent."
   ]
  },
  {
   "cell_type": "code",
   "execution_count": 21,
   "metadata": {
    "ExecuteTime": {
     "end_time": "2023-04-14T12:01:57.043428Z",
     "start_time": "2023-04-14T12:01:55.250166Z"
    }
   },
   "outputs": [
    {
     "data": {
      "image/png": "[encoded data removed]",
      "text/plain": [
       "<Figure size 266.457x266.457 with 1 Axes>"
      ]
     },
     "metadata": {},
     "output_type": "display_data"
    }
   ],
   "source": [
    "fig_2_9 = DAG(\n",
    "    ebunch=[\n",
    "        (\"W\", \"Y\"),\n",
    "        (\"X\", \"W\"),\n",
    "        (\"Z_1\", \"X\"),\n",
    "        (\"Z_1\", \"Z_3\"),\n",
    "        (\"Z_2\", \"Y\"),\n",
    "        (\"Z_2\", \"Z_3\"),\n",
    "        (\"Z_3\", \"X\"),\n",
    "        (\"Z_3\", \"Y\"),\n",
    "    ]\n",
    ")\n",
    "\n",
    "fig_2_9_node_pos = {\n",
    "    \"W\": (2, 0),\n",
    "    \"X\": (0, 0),\n",
    "    \"Y\": (4, 0),\n",
    "    \"Z_1\": (0, 4),\n",
    "    \"Z_2\": (4, 4),\n",
    "    \"Z_3\": (2, 2),\n",
    "}\n",
    "\n",
    "fig_2_9.to_daft(node_pos=fig_2_9_node_pos).render();"
   ]
  },
  {
   "attachments": {},
   "cell_type": "markdown",
   "metadata": {},
   "source": [
    "#### Study question 2.4.1\n",
    "\n",
    "(a) For each pair of nonadjacent nodes in this graph, find a set of variables that d-separates that pair. What does this list tell us about independencies in the data?"
   ]
  },
  {
   "cell_type": "code",
   "execution_count": 22,
   "metadata": {},
   "outputs": [
    {
     "data": {
      "text/plain": [
       "(W ⟂ Z_1 | X)\n",
       "(W ⟂ Z_2 | X)\n",
       "(W ⟂ Z_3 | X)\n",
       "(X ⟂ Y | Z_3, W, Z_2)\n",
       "(X ⟂ Z_2 | Z_3, Z_1)\n",
       "(Y ⟂ Z_1 | Z_3, W, Z_2)\n",
       "(Z_1 ⟂ Z_2)"
      ]
     },
     "execution_count": 22,
     "metadata": {},
     "output_type": "execute_result"
    }
   ],
   "source": [
    "print_implied_conditional_independencies(fig_2_9)"
   ]
  },
  {
   "attachments": {},
   "cell_type": "markdown",
   "metadata": {},
   "source": [
    "For the data to be consistent with the causal model represented by the graph, they should reflect the above conditional independencies."
   ]
  },
  {
   "attachments": {},
   "cell_type": "markdown",
   "metadata": {},
   "source": [
    "(b) Repeat question (a) assuming that only variables in the set {Z_3, W, X, Z_1} can be measured."
   ]
  },
  {
   "cell_type": "code",
   "execution_count": 23,
   "metadata": {},
   "outputs": [
    {
     "data": {
      "text/plain": [
       "(W ⟂ Z_1 | X)\n",
       "(W ⟂ Z_3 | X)"
      ]
     },
     "execution_count": 23,
     "metadata": {},
     "output_type": "execute_result"
    }
   ],
   "source": [
    "fig_2_9.latents = set(fig_2_9.nodes()).difference({\"W\", \"X\", \"Z_1\", \"Z_3\"})\n",
    "\n",
    "print_implied_conditional_independencies(fig_2_9)"
   ]
  },
  {
   "cell_type": "code",
   "execution_count": 24,
   "metadata": {},
   "outputs": [],
   "source": [
    "fig_2_9.latents = set()"
   ]
  },
  {
   "attachments": {},
   "cell_type": "markdown",
   "metadata": {},
   "source": [
    "(c) For each pair of nonadjacent nodes in the graph, determine whether they are independent conditional on all other variables."
   ]
  },
  {
   "cell_type": "code",
   "execution_count": 25,
   "metadata": {},
   "outputs": [
    {
     "name": "stdout",
     "output_type": "stream",
     "text": [
      "(W ⟂ Z_1 | Y, Z_3, X, Z_2)\n",
      "(X ⟂ Y | Z_3, W, Z_1, Z_2)\n",
      "(X ⟂ Z_2 | Y, Z_3, W, Z_1)\n",
      "(Y ⟂ Z_1 | Z_3, W, X, Z_2)\n"
     ]
    }
   ],
   "source": [
    "for x, y in pairs(fig_2_9.nodes()):\n",
    "    print_independent(\n",
    "        graph=fig_2_9, x=x, y=y, z=set(fig_2_9.nodes()).difference({x, y})\n",
    "    )"
   ]
  },
  {
   "attachments": {},
   "cell_type": "markdown",
   "metadata": {},
   "source": [
    "(d) For every variable V in the graph, find a minimal set of nodes that renders V independent of all other variables in the graph."
   ]
  },
  {
   "cell_type": "code",
   "execution_count": 26,
   "metadata": {
    "ExecuteTime": {
     "end_time": "2023-04-14T13:04:48.776503Z",
     "start_time": "2023-04-14T13:04:48.769949Z"
    }
   },
   "outputs": [],
   "source": [
    "def print_markov_blanket(graph, node):\n",
    "    print(f\"Markov blanket of {node}:\", sorted(graph.get_markov_blanket(node)))"
   ]
  },
  {
   "cell_type": "code",
   "execution_count": 27,
   "metadata": {},
   "outputs": [
    {
     "name": "stdout",
     "output_type": "stream",
     "text": [
      "Markov blanket of W: ['X', 'Y', 'Z_2', 'Z_3']\n",
      "Markov blanket of X: ['W', 'Z_1', 'Z_3']\n",
      "Markov blanket of Y: ['W', 'Z_2', 'Z_3']\n",
      "Markov blanket of Z_1: ['X', 'Z_2', 'Z_3']\n",
      "Markov blanket of Z_2: ['W', 'Y', 'Z_1', 'Z_3']\n",
      "Markov blanket of Z_3: ['W', 'X', 'Y', 'Z_1', 'Z_2']\n"
     ]
    }
   ],
   "source": [
    "for node in sorted(fig_2_9.nodes()):\n",
    "    print_markov_blanket(graph=fig_2_9, node=node)"
   ]
  },
  {
   "attachments": {},
   "cell_type": "markdown",
   "metadata": {},
   "source": [
    "(e) Suppose we wish to estimate the value of Y from measurements taken on all other variables in the model. Find the smallest set of variables that would yield as good an estimate of Y as when we measured all variables."
   ]
  },
  {
   "cell_type": "code",
   "execution_count": 28,
   "metadata": {},
   "outputs": [
    {
     "name": "stdout",
     "output_type": "stream",
     "text": [
      "Markov blanket of Y: ['W', 'Z_2', 'Z_3']\n"
     ]
    }
   ],
   "source": [
    "print_markov_blanket(graph=fig_2_9, node=\"Y\")"
   ]
  },
  {
   "attachments": {},
   "cell_type": "markdown",
   "metadata": {},
   "source": [
    "(f) Repeat question (e) assuming that we wish to estimate the value of Z_2."
   ]
  },
  {
   "cell_type": "code",
   "execution_count": 29,
   "metadata": {},
   "outputs": [
    {
     "name": "stdout",
     "output_type": "stream",
     "text": [
      "Markov blanket of Z_2: ['W', 'Y', 'Z_1', 'Z_3']\n"
     ]
    }
   ],
   "source": [
    "print_markov_blanket(graph=fig_2_9, node=\"Z_2\")"
   ]
  },
  {
   "attachments": {},
   "cell_type": "markdown",
   "metadata": {},
   "source": [
    "(g) Suppose we wish to predict the value of Z_2 from measurements of Z_3. Would the quality of our prediction improve if we add measurement of W? Explain."
   ]
  },
  {
   "cell_type": "code",
   "execution_count": 30,
   "metadata": {},
   "outputs": [
    {
     "data": {
      "text/plain": [
       "True"
      ]
     },
     "execution_count": 30,
     "metadata": {},
     "output_type": "execute_result"
    }
   ],
   "source": [
    "fig_2_9.is_dconnected(start=\"W\", end=\"Z_2\", observed=\"Z_3\")"
   ]
  },
  {
   "attachments": {},
   "cell_type": "markdown",
   "metadata": {},
   "source": [
    "When conditioned on Z_3, the variables W and Z_2 are connected, hence they are not independent. Thus, it would likely be advantageous to add W."
   ]
  },
  {
   "attachments": {},
   "cell_type": "markdown",
   "metadata": {},
   "source": [
    "### 2.5 Model Testing and Causal Search\n",
    "\n",
    "#### Study question 2.5.1\n",
    "\n",
    "(a) Which of the arrows in Figure 2.9 can be reversed without being detected by any statistical test? \\[Hint: Use the criterion for equivalence class.\\]\n",
    "\n",
    "This question can be [answered](https://github.com/behrman/cis/blob/master/solutions_dagitty.md#study-question-251) with the R function `dagitty::equivalenceClass()`, which generates a complete partially directed graph (CPDAG) that represents all the graphs that are Markov equivalent to the input DAG. There is no comparable functionality in pgmpy as of version 0.1.22 (`DAG.to_pdag()` has not been implemented)."
   ]
  },
  {
   "attachments": {},
   "cell_type": "markdown",
   "metadata": {},
   "source": [
    "(d) Write down a regression equation for Y such that, if a certain coefficient in that equation is nonzero, the model of Figure 2.9 is wrong.\n",
    "\n",
    "Here are conditional independencies for `fig_2_9`."
   ]
  },
  {
   "cell_type": "code",
   "execution_count": 31,
   "metadata": {
    "ExecuteTime": {
     "end_time": "2023-04-14T13:08:49.797815Z",
     "start_time": "2023-04-14T13:08:49.787605Z"
    }
   },
   "outputs": [
    {
     "data": {
      "text/plain": [
       "(W ⟂ Z_1 | X)\n",
       "(W ⟂ Z_2 | X)\n",
       "(W ⟂ Z_3 | X)\n",
       "(X ⟂ Y | Z_3, W, Z_2)\n",
       "(X ⟂ Z_2 | Z_3, Z_1)\n",
       "(Y ⟂ Z_1 | Z_3, W, Z_2)\n",
       "(Z_1 ⟂ Z_2)"
      ]
     },
     "execution_count": 31,
     "metadata": {},
     "output_type": "execute_result"
    }
   ],
   "source": [
    "print_implied_conditional_independencies(fig_2_9)"
   ]
  },
  {
   "attachments": {},
   "cell_type": "markdown",
   "metadata": {},
   "source": [
    "If we assume that the model is correct and linear, then the conditional independence of X and Y conditioned on {W, Z_1, Z_3} would imply that the coefficient b for this linear regression\n",
    "\n",
    "Y = a + b \\* X + c \\* W + d \\* Z_1 + e \\* Z_3\n",
    "\n",
    "should be zero."
   ]
  },
  {
   "attachments": {},
   "cell_type": "markdown",
   "metadata": {},
   "source": [
    "(e) Repeat question (d) for variable Z_3.\n",
    "\n",
    "Similarly, the conditional independence of Z_3 and W conditioned on X would imply that the coefficient b for this linear regression\n",
    "\n",
    "Z_3 = a + b \\* W + c \\* X\n",
    "\n",
    "should be zero."
   ]
  },
  {
   "attachments": {},
   "cell_type": "markdown",
   "metadata": {},
   "source": [
    "(f) Repeat question (e) assuming the X is not measured.\n",
    "\n",
    "Assuming that X is not measured, we will convert it to a latent variable."
   ]
  },
  {
   "cell_type": "code",
   "execution_count": 32,
   "metadata": {
    "ExecuteTime": {
     "end_time": "2023-04-14T13:17:48.265174Z",
     "start_time": "2023-04-14T13:17:48.229907Z"
    }
   },
   "outputs": [
    {
     "data": {
      "text/plain": [
       "(W ⟂ Z_2 | Z_3, Z_1)\n",
       "(Y ⟂ Z_1 | Z_3, W, Z_2)\n",
       "(Z_1 ⟂ Z_2)"
      ]
     },
     "execution_count": 32,
     "metadata": {},
     "output_type": "execute_result"
    }
   ],
   "source": [
    "fig_2_9.latents = \"X\"\n",
    "\n",
    "print_implied_conditional_independencies(fig_2_9)"
   ]
  },
  {
   "attachments": {},
   "cell_type": "markdown",
   "metadata": {},
   "source": [
    "In this case, Z_3 is not conditionally independent with any other variable, so no such regression exists."
   ]
  },
  {
   "cell_type": "code",
   "execution_count": 33,
   "metadata": {
    "ExecuteTime": {
     "end_time": "2023-04-14T13:18:51.618773Z",
     "start_time": "2023-04-14T13:18:51.611246Z"
    }
   },
   "outputs": [],
   "source": [
    "fig_2_9.latents = set()"
   ]
  },
  {
   "attachments": {},
   "cell_type": "markdown",
   "metadata": {},
   "source": [
    "(g) How many regression equations of the type described in (d) and (e) are needed to ensure that the model is fully tested, namely, that if it passes all these tests, it cannot be refuted by additional tests of this kind. \\[Hint: Ensure that you test every vanishing partial regression coefficient that is implied by the product decomposition (1.29).\\]\n",
    "\n",
    "This question can be [answered](https://github.com/behrman/cis/blob/master/solutions_dagitty.md#study-question-251) by using the R function `dagitty::impliedConditionalIndependencies()` to generate a basis set of conditional independencies. There is no comparable functionality in pgmpy as of version 0.1.22."
   ]
  },
  {
   "attachments": {},
   "cell_type": "markdown",
   "metadata": {
    "collapsed": false
   },
   "source": [
    "## 3 The Effects of Interventions\n",
    "\n",
    "### 3.3 The Backdoor Criterion\n",
    "\n",
    "Figure 3.8. Causal graph used to illustrate the backdoor criterion in the following study questions."
   ]
  },
  {
   "cell_type": "code",
   "execution_count": 34,
   "metadata": {
    "ExecuteTime": {
     "end_time": "2023-04-14T14:03:58.189303Z",
     "start_time": "2023-04-14T14:03:56.224500Z"
    },
    "collapsed": false
   },
   "outputs": [
    {
     "data": {
      "image/png": "[encoded data removed]",
      "text/plain": [
       "<Figure size 266.457x266.457 with 1 Axes>"
      ]
     },
     "metadata": {},
     "output_type": "display_data"
    }
   ],
   "source": [
    "fig_3_8 = DAG(\n",
    "    ebunch=[\n",
    "        (\"A\", \"X\"),\n",
    "        (\"B\", \"A\"),\n",
    "        (\"B\", \"Z\"),\n",
    "        (\"C\", \"D\"),\n",
    "        (\"C\", \"Z\"),\n",
    "        (\"D\", \"Y\"),\n",
    "        (\"W\", \"Y\"),\n",
    "        (\"X\", \"W\"),\n",
    "        (\"Z\", \"X\"),\n",
    "        (\"Z\", \"Y\"),\n",
    "    ]\n",
    ")\n",
    "\n",
    "fig_3_8_node_pos = {\n",
    "    \"A\": (0, 2),\n",
    "    \"B\": (0, 4),\n",
    "    \"C\": (4, 4),\n",
    "    \"D\": (4, 2),\n",
    "    \"W\": (2, 0),\n",
    "    \"X\": (0, 0),\n",
    "    \"Y\": (4, 0),\n",
    "    \"Z\": (2, 2),\n",
    "}\n",
    "\n",
    "fig_3_8.to_daft(node_pos=fig_3_8_node_pos).render();"
   ]
  },
  {
   "attachments": {},
   "cell_type": "markdown",
   "metadata": {
    "collapsed": false
   },
   "source": [
    "#### Study question 3.3.1\n",
    "\n",
    "Consider the graph in Figure 3.8:\n",
    "\n",
    "(a) List all of the sets of variables that satisfy the backdoor criterion to determine the causal effect of X on Y.\n",
    "\n",
    "This question can be [answered](https://github.com/behrman/cis/blob/master/solutions_dagitty.md#study-question-331) by using the R function `dagitty::adjustmentSets()` to generate all sets of variables that satisfy the backdoor criterion. There is no comparable functionality in pgmpy as of version 0.1.22. (`get_all_backdoor_adjustment_sets()` below returns *minimal* sets)."
   ]
  },
  {
   "attachments": {},
   "cell_type": "markdown",
   "metadata": {
    "collapsed": false
   },
   "source": [
    "(b) List all of the minimal sets of variables that satisfy the backdoor criterion to determine the causal effect of X on Y (i.e., any set of variables such that, if you removed any one of the variables from the set, it would no longer meet the criterion)."
   ]
  },
  {
   "cell_type": "code",
   "execution_count": 35,
   "metadata": {
    "ExecuteTime": {
     "end_time": "2023-04-14T14:22:42.905957Z",
     "start_time": "2023-04-14T14:22:42.882219Z"
    },
    "collapsed": false
   },
   "outputs": [],
   "source": [
    "inference = CausalInference(BayesianNetwork(fig_3_8))"
   ]
  },
  {
   "cell_type": "code",
   "execution_count": 36,
   "metadata": {
    "ExecuteTime": {
     "end_time": "2023-04-14T14:24:10.776547Z",
     "start_time": "2023-04-14T14:24:10.105357Z"
    },
    "collapsed": false
   },
   "outputs": [
    {
     "data": {
      "text/plain": [
       "frozenset({frozenset({'C', 'Z'}),\n",
       "           frozenset({'A', 'Z'}),\n",
       "           frozenset({'D', 'Z'}),\n",
       "           frozenset({'B', 'Z'})})"
      ]
     },
     "execution_count": 36,
     "metadata": {},
     "output_type": "execute_result"
    }
   ],
   "source": [
    "inference.get_all_backdoor_adjustment_sets(\"X\", \"Y\")"
   ]
  },
  {
   "attachments": {},
   "cell_type": "markdown",
   "metadata": {},
   "source": [
    "Note: As of pgmpy version 0.1.22, the computation for `get_all_backdoor_adjustment_sets()` grows exponentially with the number of nodes in the graph, so it is only suitable for relatively small graphs."
   ]
  },
  {
   "attachments": {},
   "cell_type": "markdown",
   "metadata": {
    "collapsed": false
   },
   "source": [
    "(c) List all minimal sets of variables that need be measured in order to identify the effect of D on Y."
   ]
  },
  {
   "cell_type": "code",
   "execution_count": 37,
   "metadata": {
    "ExecuteTime": {
     "end_time": "2023-04-14T14:31:47.772302Z",
     "start_time": "2023-04-14T14:31:47.771464Z"
    },
    "collapsed": false
   },
   "outputs": [
    {
     "data": {
      "text/plain": [
       "frozenset({frozenset({'A', 'Z'}),\n",
       "           frozenset({'B', 'Z'}),\n",
       "           frozenset({'W', 'Z'}),\n",
       "           frozenset({'X', 'Z'}),\n",
       "           frozenset({'C'})})"
      ]
     },
     "execution_count": 37,
     "metadata": {},
     "output_type": "execute_result"
    }
   ],
   "source": [
    "inference.get_all_backdoor_adjustment_sets(\"D\", \"Y\")"
   ]
  },
  {
   "attachments": {},
   "cell_type": "markdown",
   "metadata": {
    "collapsed": false
   },
   "source": [
    "Repeat, for the effect of {D, W} on Y.\n",
    "\n",
    "This question can be [answered](https://github.com/behrman/cis/blob/master/solutions_dagitty.md#study-question-331) by using the R function `dagitty::adjustmentSets()`, which allows the exposure and outcome to be sets of variables. There is no comparable functionality in pgmpy as of version 0.1.22."
   ]
  },
  {
   "attachments": {},
   "cell_type": "markdown",
   "metadata": {
    "collapsed": false
   },
   "source": [
    "### 3.4 The Front-Door Criterion\n",
    "\n",
    "#### Study question 3.4.1\n",
    "\n",
    "Assume that in Figure 3.8, only X, Y, and one additional variable can be measured. Which variable would allow the identification of the effect of X on Y? What would that effect be?"
   ]
  },
  {
   "cell_type": "code",
   "execution_count": 38,
   "metadata": {
    "collapsed": false
   },
   "outputs": [
    {
     "data": {
      "text/plain": [
       "frozenset({frozenset({'W'})})"
      ]
     },
     "execution_count": 38,
     "metadata": {},
     "output_type": "execute_result"
    }
   ],
   "source": [
    "inference.get_all_frontdoor_adjustment_sets(\"X\", \"Y\")"
   ]
  },
  {
   "attachments": {},
   "cell_type": "markdown",
   "metadata": {
    "collapsed": false
   },
   "source": [
    "We saw in question 3.3.1 (b) that all backdoor adjustment sets for the effect of X on Y in Figure 3.8 require at least two variables. The single variable W, however, is a front-door adjustment set through which the effect of X on Y could be identified.\n",
    "\n",
    "Note: As of pgmpy version 0.1.22, the computation for `get_all_frontdoor_adjustment_sets()` grows exponentially with the number of nodes in the graph, so it is only suitable for relatively small graphs."
   ]
  },
  {
   "attachments": {},
   "cell_type": "markdown",
   "metadata": {
    "collapsed": false
   },
   "source": [
    "### 3.5 Conditional Interventions and Covariate-Specific Effects\n",
    "\n",
    "#### Study question 3.5.1\n",
    "\n",
    "Consider the causal model of Figure 3.8.\n",
    "\n",
    "(a) Find an expression for the c-specific effect of X on Y.\n",
    "(b) Identify a set of four variables that need to be measured in order to estimate the z-specific effect of X on Y.\n",
    "\n",
    "These questions can be [answered](https://github.com/behrman/cis/blob/master/solutions_dagitty.md#study-question-351) by using the R functions `dagitty::adjustedNodes()` and `dagitty::adjustmentSets()`. There is no comparable functionality in pgmpy as of version 0.1.22."
   ]
  },
  {
   "attachments": {},
   "cell_type": "markdown",
   "metadata": {
    "collapsed": false
   },
   "source": [
    "### 3.8 Causal Inference in Linear Systems\n",
    "\n",
    "Figure 3.18. Graph corresponding to Model 3.1 in study question 3.8.1."
   ]
  },
  {
   "cell_type": "code",
   "execution_count": 39,
   "metadata": {
    "collapsed": false
   },
   "outputs": [
    {
     "data": {
      "image/png": "[encoded data removed]",
      "text/plain": [
       "<Figure size 266.457x266.457 with 1 Axes>"
      ]
     },
     "metadata": {},
     "output_type": "display_data"
    }
   ],
   "source": [
    "fig_3_18 = DAG(\n",
    "    ebunch=[\n",
    "        (\"W_1\", \"X\"),\n",
    "        (\"W_2\", \"Y\"),\n",
    "        (\"W_3\", \"Y\"),\n",
    "        (\"X\", \"W_3\"),\n",
    "        (\"Z_1\", \"W_1\"),\n",
    "        (\"Z_1\", \"Z_3\"),\n",
    "        (\"Z_2\", \"W_2\"),\n",
    "        (\"Z_2\", \"Z_3\"),\n",
    "        (\"Z_3\", \"X\"),\n",
    "        (\"Z_3\", \"Y\"),\n",
    "    ]\n",
    ")\n",
    "\n",
    "fig_3_18_node_pos = {\n",
    "    \"W_1\": (0, 2),\n",
    "    \"W_2\": (4, 2),\n",
    "    \"W_3\": (2, 0),\n",
    "    \"X\": (0, 0),\n",
    "    \"Y\": (4, 0),\n",
    "    \"Z_1\": (0, 4),\n",
    "    \"Z_2\": (4, 4),\n",
    "    \"Z_3\": (2, 2),\n",
    "}\n",
    "\n",
    "fig_3_18.to_daft(node_pos=fig_3_18_node_pos).render();"
   ]
  },
  {
   "attachments": {},
   "cell_type": "markdown",
   "metadata": {
    "collapsed": false
   },
   "source": [
    "#### Study question 3.8.1\n",
    "\n",
    "Given the model depicted above, answer the following questions:\n",
    "\n",
    "(a) Identify three testable implications of this model."
   ]
  },
  {
   "cell_type": "code",
   "execution_count": 40,
   "metadata": {
    "collapsed": false
   },
   "outputs": [
    {
     "data": {
      "text/plain": [
       "(W_1 ⟂ W_2)\n",
       "(W_1 ⟂ W_3 | X)\n",
       "(W_1 ⟂ Y | Z_3, Z_1, W_3)\n",
       "(W_1 ⟂ Z_2)\n",
       "(W_1 ⟂ Z_3 | Z_1)\n",
       "(W_2 ⟂ W_3 | Z_2)\n",
       "(W_2 ⟂ X | Z_2)\n",
       "(W_2 ⟂ Z_1)\n",
       "(W_2 ⟂ Z_3 | Z_2)\n",
       "(W_3 ⟂ Z_1 | X)\n",
       "(W_3 ⟂ Z_2 | X)\n",
       "(W_3 ⟂ Z_3 | X)\n",
       "(X ⟂ Y | W_2, Z_3, W_3)\n",
       "(X ⟂ Z_1 | W_1, Z_3)\n",
       "(X ⟂ Z_2 | W_1, Z_3)\n",
       "(Y ⟂ Z_1 | W_2, Z_3, W_3)\n",
       "(Y ⟂ Z_2 | W_2, Z_3, W_3)\n",
       "(Z_1 ⟂ Z_2)"
      ]
     },
     "execution_count": 40,
     "metadata": {},
     "output_type": "execute_result"
    }
   ],
   "source": [
    "print_implied_conditional_independencies(fig_3_18)"
   ]
  },
  {
   "attachments": {},
   "cell_type": "markdown",
   "metadata": {
    "collapsed": false
   },
   "source": [
    "The above conditional independencies are all testable implications of this model."
   ]
  },
  {
   "attachments": {},
   "cell_type": "markdown",
   "metadata": {
    "collapsed": false
   },
   "source": [
    "(b) Identify a testable implication assuming that only X, Y, W_3, and Z_3 are observed."
   ]
  },
  {
   "cell_type": "code",
   "execution_count": 41,
   "metadata": {
    "collapsed": false
   },
   "outputs": [
    {
     "data": {
      "text/plain": [
       "(W_3 ⟂ Z_3 | X)"
      ]
     },
     "execution_count": 41,
     "metadata": {},
     "output_type": "execute_result"
    }
   ],
   "source": [
    "fig_3_18.latents = set(fig_3_18.nodes()).difference({\"W_3\", \"X\", \"Y\", \"Z_3\"})\n",
    "\n",
    "print_implied_conditional_independencies(fig_3_18)"
   ]
  },
  {
   "attachments": {},
   "cell_type": "markdown",
   "metadata": {
    "collapsed": false
   },
   "source": [
    "W_3 and Z_3 are independent conditional on X."
   ]
  },
  {
   "cell_type": "code",
   "execution_count": 42,
   "metadata": {
    "collapsed": false
   },
   "outputs": [],
   "source": [
    "fig_3_18.latents = set()"
   ]
  },
  {
   "attachments": {},
   "cell_type": "markdown",
   "metadata": {
    "collapsed": false
   },
   "source": [
    "(e) If we regress Z_1 on all other variables in the model, which regression coefficients will be zero?"
   ]
  },
  {
   "cell_type": "code",
   "execution_count": 43,
   "metadata": {
    "collapsed": false
   },
   "outputs": [
    {
     "name": "stdout",
     "output_type": "stream",
     "text": [
      "Markov blanket of Z_1: ['W_1', 'Z_2', 'Z_3']\n"
     ]
    }
   ],
   "source": [
    "print_markov_blanket(graph=fig_3_18, node=\"Z_1\")"
   ]
  },
  {
   "cell_type": "code",
   "execution_count": 44,
   "metadata": {
    "collapsed": false
   },
   "outputs": [
    {
     "data": {
      "text/plain": [
       "{'W_2', 'W_3', 'X', 'Y'}"
      ]
     },
     "execution_count": 44,
     "metadata": {},
     "output_type": "execute_result"
    }
   ],
   "source": [
    "set(fig_3_18.nodes()).difference({\"Z_1\"}.union(fig_3_18.get_markov_blanket(\"Z_1\")))"
   ]
  },
  {
   "attachments": {},
   "cell_type": "markdown",
   "metadata": {
    "collapsed": false
   },
   "source": [
    "Z_1 is d-separated from the variables {W_2, W_3, X, Y} by the set {W_1, Z_2, Z_3}. This implies that in a regression of Z_1 on all other variables, the regression coefficients of {W_2, W_3, X, Y} would be zero."
   ]
  },
  {
   "attachments": {},
   "cell_type": "markdown",
   "metadata": {
    "collapsed": false
   },
   "source": [
    "(g) Assume that variables Z_2 and W_2 cannot be measured. Find a way to estimate b using regression coefficients. \\[Hint: Find a way to turn Z_1 into an instrumental variable for b.\\]\n",
    "\n",
    "This question can be [answered](https://github.com/behrman/cis/blob/master/solutions_dagitty.md#study-question-381) by using the R function `dagitty::instrumentalVariables()`, which generates a list of instrumental variables under linearity assumptions. There is no comparable functionality in pgmpy as of version 0.1.22."
   ]
  }
 ],
 "metadata": {
  "kernelspec": {
   "display_name": "Python 3 (ipykernel)",
   "language": "python",
   "name": "python3"
  },
  "language_info": {
   "codemirror_mode": {
    "name": "ipython",
    "version": 3
   },
   "file_extension": ".py",
   "mimetype": "text/x-python",
   "name": "python",
   "nbconvert_exporter": "python",
   "pygments_lexer": "ipython3",
   "version": "3.11.3"
  }
 },
 "nbformat": 4,
 "nbformat_minor": 1
}
